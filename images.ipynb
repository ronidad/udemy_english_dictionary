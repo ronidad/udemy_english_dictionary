{
 "cells": [
  {
   "cell_type": "markdown",
   "source": [
    "# Reading images and convertign them to numpy "
   ],
   "metadata": {}
  },
  {
   "cell_type": "code",
   "execution_count": 3,
   "source": [
    "import cv2\r\n",
    "import numpy as np\r\n",
    "import pandas as pd\r\n"
   ],
   "outputs": [],
   "metadata": {}
  },
  {
   "cell_type": "code",
   "execution_count": 4,
   "source": [
    "img_g = cv2.imread(\"smallgray.png\",0)\r\n",
    "img_g"
   ],
   "outputs": [
    {
     "output_type": "execute_result",
     "data": {
      "text/plain": [
       "array([[187, 158, 104, 121, 143],\n",
       "       [198, 125, 255, 255, 147],\n",
       "       [209, 134, 255,  97, 182]], dtype=uint8)"
      ]
     },
     "metadata": {},
     "execution_count": 4
    }
   ],
   "metadata": {}
  },
  {
   "cell_type": "code",
   "execution_count": 5,
   "source": [
    "imagew=cv2.imread(\"w.jpg\",0)\r\n",
    "imagew"
   ],
   "outputs": [
    {
     "output_type": "execute_result",
     "data": {
      "text/plain": [
       "array([[112, 110, 101, ...,  42,  38,  31],\n",
       "       [111, 106,  96, ...,  59,  59,  57],\n",
       "       [102,  95,  87, ...,  69,  73,  75],\n",
       "       ...,\n",
       "       [ 68,  67,  65, ...,  57,  62,  69],\n",
       "       [ 86,  78,  64, ...,  57,  59,  63],\n",
       "       [ 93,  79,  61, ...,  66,  64,  64]], dtype=uint8)"
      ]
     },
     "metadata": {},
     "execution_count": 5
    }
   ],
   "metadata": {}
  },
  {
   "cell_type": "code",
   "execution_count": 6,
   "source": [
    "cv2.imwrite(\"grey.jpg\",imagew)"
   ],
   "outputs": [
    {
     "output_type": "execute_result",
     "data": {
      "text/plain": [
       "False"
      ]
     },
     "metadata": {},
     "execution_count": 6
    }
   ],
   "metadata": {}
  },
  {
   "cell_type": "code",
   "execution_count": 7,
   "source": [
    "imagew"
   ],
   "outputs": [
    {
     "output_type": "execute_result",
     "data": {
      "text/plain": [
       "array([[112, 110, 101, ...,  42,  38,  31],\n",
       "       [111, 106,  96, ...,  59,  59,  57],\n",
       "       [102,  95,  87, ...,  69,  73,  75],\n",
       "       ...,\n",
       "       [ 68,  67,  65, ...,  57,  62,  69],\n",
       "       [ 86,  78,  64, ...,  57,  59,  63],\n",
       "       [ 93,  79,  61, ...,  66,  64,  64]], dtype=uint8)"
      ]
     },
     "metadata": {},
     "execution_count": 7
    }
   ],
   "metadata": {}
  },
  {
   "cell_type": "code",
   "execution_count": 8,
   "source": [
    "print(\"Good work on images\")"
   ],
   "outputs": [
    {
     "output_type": "stream",
     "name": "stdout",
     "text": [
      "Good work on images\n"
     ]
    }
   ],
   "metadata": {}
  },
  {
   "cell_type": "code",
   "execution_count": null,
   "source": [],
   "outputs": [],
   "metadata": {}
  }
 ],
 "metadata": {
  "kernelspec": {
   "name": "python3",
   "display_name": "Python 3.8.5 64-bit ('base': conda)"
  },
  "language_info": {
   "codemirror_mode": {
    "name": "ipython",
    "version": 3
   },
   "file_extension": ".py",
   "mimetype": "text/x-python",
   "name": "python",
   "nbconvert_exporter": "python",
   "pygments_lexer": "ipython3",
   "version": "3.8.5"
  },
  "interpreter": {
   "hash": "8e24f623c9d976e65e43b538ecbbc4d478524c94015e92b14b460358aba5245a"
  }
 },
 "nbformat": 4,
 "nbformat_minor": 4
}